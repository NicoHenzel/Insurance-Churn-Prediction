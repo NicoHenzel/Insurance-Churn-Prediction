{
 "cells": [
  {
   "cell_type": "markdown",
   "id": "9ce65933",
   "metadata": {
    "papermill": {
     "duration": 0.008726,
     "end_time": "2022-11-06T18:56:02.498881",
     "exception": false,
     "start_time": "2022-11-06T18:56:02.490155",
     "status": "completed"
    },
    "tags": []
   },
   "source": [
    "# Load Data"
   ]
  },
  {
   "cell_type": "code",
   "execution_count": 1,
   "id": "1d3cca24",
   "metadata": {
    "_cell_guid": "b1076dfc-b9ad-4769-8c92-a6c4dae69d19",
    "_uuid": "8f2839f25d086af736a60e9eeb907d3b93b6e0e5",
    "execution": {
     "iopub.execute_input": "2022-11-06T18:56:02.513443Z",
     "iopub.status.busy": "2022-11-06T18:56:02.512335Z",
     "iopub.status.idle": "2022-11-06T18:56:02.530128Z",
     "shell.execute_reply": "2022-11-06T18:56:02.528676Z"
    },
    "papermill": {
     "duration": 0.028916,
     "end_time": "2022-11-06T18:56:02.533971",
     "exception": false,
     "start_time": "2022-11-06T18:56:02.505055",
     "status": "completed"
    },
    "tags": []
   },
   "outputs": [
    {
     "name": "stdout",
     "output_type": "stream",
     "text": [
      "/kaggle/input/titanic/train.csv\n",
      "/kaggle/input/titanic/test.csv\n",
      "/kaggle/input/titanic/gender_submission.csv\n"
     ]
    }
   ],
   "source": [
    "# This Python 3 environment comes with many helpful analytics libraries installed\n",
    "# It is defined by the kaggle/python Docker image: https://github.com/kaggle/docker-python\n",
    "# For example, here's several helpful packages to load\n",
    "\n",
    "import numpy as np # linear algebra\n",
    "import pandas as pd # data processing, CSV file I/O (e.g. pd.read_csv)\n",
    "\n",
    "# Input data files are available in the read-only \"../input/\" directory\n",
    "# For example, running this (by clicking run or pressing Shift+Enter) will list all files under the input directory\n",
    "\n",
    "import os\n",
    "for dirname, _, filenames in os.walk('/kaggle/input'):\n",
    "    for filename in filenames:\n",
    "        print(os.path.join(dirname, filename))\n",
    "\n",
    "# You can write up to 20GB to the current directory (/kaggle/working/) that gets preserved as output when you create a version using \"Save & Run All\" \n",
    "# You can also write temporary files to /kaggle/temp/, but they won't be saved outside of the current session"
   ]
  },
  {
   "cell_type": "code",
   "execution_count": 2,
   "id": "1e7d4ddb",
   "metadata": {
    "execution": {
     "iopub.execute_input": "2022-11-06T18:56:02.547444Z",
     "iopub.status.busy": "2022-11-06T18:56:02.546791Z",
     "iopub.status.idle": "2022-11-06T18:56:02.602284Z",
     "shell.execute_reply": "2022-11-06T18:56:02.600516Z"
    },
    "papermill": {
     "duration": 0.065737,
     "end_time": "2022-11-06T18:56:02.605822",
     "exception": false,
     "start_time": "2022-11-06T18:56:02.540085",
     "status": "completed"
    },
    "tags": []
   },
   "outputs": [
    {
     "data": {
      "text/html": [
       "<div>\n",
       "<style scoped>\n",
       "    .dataframe tbody tr th:only-of-type {\n",
       "        vertical-align: middle;\n",
       "    }\n",
       "\n",
       "    .dataframe tbody tr th {\n",
       "        vertical-align: top;\n",
       "    }\n",
       "\n",
       "    .dataframe thead th {\n",
       "        text-align: right;\n",
       "    }\n",
       "</style>\n",
       "<table border=\"1\" class=\"dataframe\">\n",
       "  <thead>\n",
       "    <tr style=\"text-align: right;\">\n",
       "      <th></th>\n",
       "      <th>PassengerId</th>\n",
       "      <th>Survived</th>\n",
       "      <th>Pclass</th>\n",
       "      <th>Name</th>\n",
       "      <th>Sex</th>\n",
       "      <th>Age</th>\n",
       "      <th>SibSp</th>\n",
       "      <th>Parch</th>\n",
       "      <th>Ticket</th>\n",
       "      <th>Fare</th>\n",
       "      <th>Cabin</th>\n",
       "      <th>Embarked</th>\n",
       "    </tr>\n",
       "  </thead>\n",
       "  <tbody>\n",
       "    <tr>\n",
       "      <th>0</th>\n",
       "      <td>1</td>\n",
       "      <td>0</td>\n",
       "      <td>3</td>\n",
       "      <td>Braund, Mr. Owen Harris</td>\n",
       "      <td>male</td>\n",
       "      <td>22.0</td>\n",
       "      <td>1</td>\n",
       "      <td>0</td>\n",
       "      <td>A/5 21171</td>\n",
       "      <td>7.2500</td>\n",
       "      <td>NaN</td>\n",
       "      <td>S</td>\n",
       "    </tr>\n",
       "    <tr>\n",
       "      <th>1</th>\n",
       "      <td>2</td>\n",
       "      <td>1</td>\n",
       "      <td>1</td>\n",
       "      <td>Cumings, Mrs. John Bradley (Florence Briggs Th...</td>\n",
       "      <td>female</td>\n",
       "      <td>38.0</td>\n",
       "      <td>1</td>\n",
       "      <td>0</td>\n",
       "      <td>PC 17599</td>\n",
       "      <td>71.2833</td>\n",
       "      <td>C85</td>\n",
       "      <td>C</td>\n",
       "    </tr>\n",
       "    <tr>\n",
       "      <th>2</th>\n",
       "      <td>3</td>\n",
       "      <td>1</td>\n",
       "      <td>3</td>\n",
       "      <td>Heikkinen, Miss. Laina</td>\n",
       "      <td>female</td>\n",
       "      <td>26.0</td>\n",
       "      <td>0</td>\n",
       "      <td>0</td>\n",
       "      <td>STON/O2. 3101282</td>\n",
       "      <td>7.9250</td>\n",
       "      <td>NaN</td>\n",
       "      <td>S</td>\n",
       "    </tr>\n",
       "    <tr>\n",
       "      <th>3</th>\n",
       "      <td>4</td>\n",
       "      <td>1</td>\n",
       "      <td>1</td>\n",
       "      <td>Futrelle, Mrs. Jacques Heath (Lily May Peel)</td>\n",
       "      <td>female</td>\n",
       "      <td>35.0</td>\n",
       "      <td>1</td>\n",
       "      <td>0</td>\n",
       "      <td>113803</td>\n",
       "      <td>53.1000</td>\n",
       "      <td>C123</td>\n",
       "      <td>S</td>\n",
       "    </tr>\n",
       "    <tr>\n",
       "      <th>4</th>\n",
       "      <td>5</td>\n",
       "      <td>0</td>\n",
       "      <td>3</td>\n",
       "      <td>Allen, Mr. William Henry</td>\n",
       "      <td>male</td>\n",
       "      <td>35.0</td>\n",
       "      <td>0</td>\n",
       "      <td>0</td>\n",
       "      <td>373450</td>\n",
       "      <td>8.0500</td>\n",
       "      <td>NaN</td>\n",
       "      <td>S</td>\n",
       "    </tr>\n",
       "  </tbody>\n",
       "</table>\n",
       "</div>"
      ],
      "text/plain": [
       "   PassengerId  Survived  Pclass  \\\n",
       "0            1         0       3   \n",
       "1            2         1       1   \n",
       "2            3         1       3   \n",
       "3            4         1       1   \n",
       "4            5         0       3   \n",
       "\n",
       "                                                Name     Sex   Age  SibSp  \\\n",
       "0                            Braund, Mr. Owen Harris    male  22.0      1   \n",
       "1  Cumings, Mrs. John Bradley (Florence Briggs Th...  female  38.0      1   \n",
       "2                             Heikkinen, Miss. Laina  female  26.0      0   \n",
       "3       Futrelle, Mrs. Jacques Heath (Lily May Peel)  female  35.0      1   \n",
       "4                           Allen, Mr. William Henry    male  35.0      0   \n",
       "\n",
       "   Parch            Ticket     Fare Cabin Embarked  \n",
       "0      0         A/5 21171   7.2500   NaN        S  \n",
       "1      0          PC 17599  71.2833   C85        C  \n",
       "2      0  STON/O2. 3101282   7.9250   NaN        S  \n",
       "3      0            113803  53.1000  C123        S  \n",
       "4      0            373450   8.0500   NaN        S  "
      ]
     },
     "execution_count": 2,
     "metadata": {},
     "output_type": "execute_result"
    }
   ],
   "source": [
    "train_data = pd.read_csv(\"/kaggle/input/titanic/train.csv\")\n",
    "train_data.head()"
   ]
  },
  {
   "cell_type": "code",
   "execution_count": 3,
   "id": "cfc65388",
   "metadata": {
    "execution": {
     "iopub.execute_input": "2022-11-06T18:56:02.620085Z",
     "iopub.status.busy": "2022-11-06T18:56:02.618728Z",
     "iopub.status.idle": "2022-11-06T18:56:02.643678Z",
     "shell.execute_reply": "2022-11-06T18:56:02.642696Z"
    },
    "papermill": {
     "duration": 0.034845,
     "end_time": "2022-11-06T18:56:02.646487",
     "exception": false,
     "start_time": "2022-11-06T18:56:02.611642",
     "status": "completed"
    },
    "tags": []
   },
   "outputs": [
    {
     "data": {
      "text/html": [
       "<div>\n",
       "<style scoped>\n",
       "    .dataframe tbody tr th:only-of-type {\n",
       "        vertical-align: middle;\n",
       "    }\n",
       "\n",
       "    .dataframe tbody tr th {\n",
       "        vertical-align: top;\n",
       "    }\n",
       "\n",
       "    .dataframe thead th {\n",
       "        text-align: right;\n",
       "    }\n",
       "</style>\n",
       "<table border=\"1\" class=\"dataframe\">\n",
       "  <thead>\n",
       "    <tr style=\"text-align: right;\">\n",
       "      <th></th>\n",
       "      <th>PassengerId</th>\n",
       "      <th>Pclass</th>\n",
       "      <th>Name</th>\n",
       "      <th>Sex</th>\n",
       "      <th>Age</th>\n",
       "      <th>SibSp</th>\n",
       "      <th>Parch</th>\n",
       "      <th>Ticket</th>\n",
       "      <th>Fare</th>\n",
       "      <th>Cabin</th>\n",
       "      <th>Embarked</th>\n",
       "    </tr>\n",
       "  </thead>\n",
       "  <tbody>\n",
       "    <tr>\n",
       "      <th>0</th>\n",
       "      <td>892</td>\n",
       "      <td>3</td>\n",
       "      <td>Kelly, Mr. James</td>\n",
       "      <td>male</td>\n",
       "      <td>34.5</td>\n",
       "      <td>0</td>\n",
       "      <td>0</td>\n",
       "      <td>330911</td>\n",
       "      <td>7.8292</td>\n",
       "      <td>NaN</td>\n",
       "      <td>Q</td>\n",
       "    </tr>\n",
       "    <tr>\n",
       "      <th>1</th>\n",
       "      <td>893</td>\n",
       "      <td>3</td>\n",
       "      <td>Wilkes, Mrs. James (Ellen Needs)</td>\n",
       "      <td>female</td>\n",
       "      <td>47.0</td>\n",
       "      <td>1</td>\n",
       "      <td>0</td>\n",
       "      <td>363272</td>\n",
       "      <td>7.0000</td>\n",
       "      <td>NaN</td>\n",
       "      <td>S</td>\n",
       "    </tr>\n",
       "    <tr>\n",
       "      <th>2</th>\n",
       "      <td>894</td>\n",
       "      <td>2</td>\n",
       "      <td>Myles, Mr. Thomas Francis</td>\n",
       "      <td>male</td>\n",
       "      <td>62.0</td>\n",
       "      <td>0</td>\n",
       "      <td>0</td>\n",
       "      <td>240276</td>\n",
       "      <td>9.6875</td>\n",
       "      <td>NaN</td>\n",
       "      <td>Q</td>\n",
       "    </tr>\n",
       "    <tr>\n",
       "      <th>3</th>\n",
       "      <td>895</td>\n",
       "      <td>3</td>\n",
       "      <td>Wirz, Mr. Albert</td>\n",
       "      <td>male</td>\n",
       "      <td>27.0</td>\n",
       "      <td>0</td>\n",
       "      <td>0</td>\n",
       "      <td>315154</td>\n",
       "      <td>8.6625</td>\n",
       "      <td>NaN</td>\n",
       "      <td>S</td>\n",
       "    </tr>\n",
       "    <tr>\n",
       "      <th>4</th>\n",
       "      <td>896</td>\n",
       "      <td>3</td>\n",
       "      <td>Hirvonen, Mrs. Alexander (Helga E Lindqvist)</td>\n",
       "      <td>female</td>\n",
       "      <td>22.0</td>\n",
       "      <td>1</td>\n",
       "      <td>1</td>\n",
       "      <td>3101298</td>\n",
       "      <td>12.2875</td>\n",
       "      <td>NaN</td>\n",
       "      <td>S</td>\n",
       "    </tr>\n",
       "  </tbody>\n",
       "</table>\n",
       "</div>"
      ],
      "text/plain": [
       "   PassengerId  Pclass                                          Name     Sex  \\\n",
       "0          892       3                              Kelly, Mr. James    male   \n",
       "1          893       3              Wilkes, Mrs. James (Ellen Needs)  female   \n",
       "2          894       2                     Myles, Mr. Thomas Francis    male   \n",
       "3          895       3                              Wirz, Mr. Albert    male   \n",
       "4          896       3  Hirvonen, Mrs. Alexander (Helga E Lindqvist)  female   \n",
       "\n",
       "    Age  SibSp  Parch   Ticket     Fare Cabin Embarked  \n",
       "0  34.5      0      0   330911   7.8292   NaN        Q  \n",
       "1  47.0      1      0   363272   7.0000   NaN        S  \n",
       "2  62.0      0      0   240276   9.6875   NaN        Q  \n",
       "3  27.0      0      0   315154   8.6625   NaN        S  \n",
       "4  22.0      1      1  3101298  12.2875   NaN        S  "
      ]
     },
     "execution_count": 3,
     "metadata": {},
     "output_type": "execute_result"
    }
   ],
   "source": [
    "test_data = pd.read_csv(\"/kaggle/input/titanic/test.csv\")\n",
    "test_data.head()"
   ]
  },
  {
   "cell_type": "markdown",
   "id": "035ed83e",
   "metadata": {
    "papermill": {
     "duration": 0.005397,
     "end_time": "2022-11-06T18:56:02.658116",
     "exception": false,
     "start_time": "2022-11-06T18:56:02.652719",
     "status": "completed"
    },
    "tags": []
   },
   "source": [
    "# Data Exploration"
   ]
  },
  {
   "cell_type": "markdown",
   "id": "f9c8e0c6",
   "metadata": {
    "papermill": {
     "duration": 0.005452,
     "end_time": "2022-11-06T18:56:02.669001",
     "exception": false,
     "start_time": "2022-11-06T18:56:02.663549",
     "status": "completed"
    },
    "tags": []
   },
   "source": [
    "#### To Do:\n",
    "\n",
    "* see report in R to get roadmap\n",
    "* check other submissions for inspiration\n",
    "* visualize data\n",
    "* show correlation\n",
    "* gain background information"
   ]
  },
  {
   "cell_type": "code",
   "execution_count": 4,
   "id": "a0c9b366",
   "metadata": {
    "execution": {
     "iopub.execute_input": "2022-11-06T18:56:02.683201Z",
     "iopub.status.busy": "2022-11-06T18:56:02.681978Z",
     "iopub.status.idle": "2022-11-06T18:56:02.689950Z",
     "shell.execute_reply": "2022-11-06T18:56:02.687933Z"
    },
    "papermill": {
     "duration": 0.018797,
     "end_time": "2022-11-06T18:56:02.693769",
     "exception": false,
     "start_time": "2022-11-06T18:56:02.674972",
     "status": "completed"
    },
    "tags": []
   },
   "outputs": [],
   "source": [
    "# Make a copy of the training set, in order to perform data exploration\n",
    "explore_data = train_data"
   ]
  },
  {
   "cell_type": "markdown",
   "id": "7e06a412",
   "metadata": {
    "papermill": {
     "duration": 0.005306,
     "end_time": "2022-11-06T18:56:02.704909",
     "exception": false,
     "start_time": "2022-11-06T18:56:02.699603",
     "status": "completed"
    },
    "tags": []
   },
   "source": [
    "# Modeling"
   ]
  },
  {
   "cell_type": "markdown",
   "id": "bb94b35f",
   "metadata": {
    "papermill": {
     "duration": 0.008193,
     "end_time": "2022-11-06T18:56:02.719301",
     "exception": false,
     "start_time": "2022-11-06T18:56:02.711108",
     "status": "completed"
    },
    "tags": []
   },
   "source": [
    "## Naive Guess"
   ]
  },
  {
   "cell_type": "code",
   "execution_count": 5,
   "id": "974f5767",
   "metadata": {
    "execution": {
     "iopub.execute_input": "2022-11-06T18:56:02.740405Z",
     "iopub.status.busy": "2022-11-06T18:56:02.739607Z",
     "iopub.status.idle": "2022-11-06T18:56:02.755622Z",
     "shell.execute_reply": "2022-11-06T18:56:02.753839Z"
    },
    "papermill": {
     "duration": 0.029942,
     "end_time": "2022-11-06T18:56:02.759138",
     "exception": false,
     "start_time": "2022-11-06T18:56:02.729196",
     "status": "completed"
    },
    "tags": []
   },
   "outputs": [
    {
     "name": "stdout",
     "output_type": "stream",
     "text": [
      "% of women who survived: 0.7420382165605095\n"
     ]
    }
   ],
   "source": [
    "women = train_data.loc[train_data['Sex'] == 'female'][\"Survived\"]\n",
    "rate_women = sum(women)/len(women)\n",
    "\n",
    "print(\"% of women who survived:\", rate_women)"
   ]
  },
  {
   "cell_type": "code",
   "execution_count": 6,
   "id": "f04acdc2",
   "metadata": {
    "execution": {
     "iopub.execute_input": "2022-11-06T18:56:02.780629Z",
     "iopub.status.busy": "2022-11-06T18:56:02.780207Z",
     "iopub.status.idle": "2022-11-06T18:56:02.789048Z",
     "shell.execute_reply": "2022-11-06T18:56:02.787566Z"
    },
    "papermill": {
     "duration": 0.021241,
     "end_time": "2022-11-06T18:56:02.791370",
     "exception": false,
     "start_time": "2022-11-06T18:56:02.770129",
     "status": "completed"
    },
    "tags": []
   },
   "outputs": [
    {
     "name": "stdout",
     "output_type": "stream",
     "text": [
      "% of men who survived: 0.18890814558058924\n"
     ]
    }
   ],
   "source": [
    "men = train_data.loc[train_data.Sex == 'male']['Survived']\n",
    "rate_men = sum(men)/len(men)\n",
    "\n",
    "print(\"% of men who survived:\", rate_men)"
   ]
  },
  {
   "cell_type": "markdown",
   "id": "4871c6d2",
   "metadata": {
    "papermill": {
     "duration": 0.005214,
     "end_time": "2022-11-06T18:56:02.802270",
     "exception": false,
     "start_time": "2022-11-06T18:56:02.797056",
     "status": "completed"
    },
    "tags": []
   },
   "source": [
    "* This means that a naive guess, only taking the gender into account, already gives us a rate of roughly 75% of predicting whether a passenger survives or not. \n",
    "* Our model needs to perform better than this to be considered successful"
   ]
  },
  {
   "cell_type": "markdown",
   "id": "0741b88c",
   "metadata": {
    "execution": {
     "iopub.execute_input": "2022-11-06T18:32:28.975981Z",
     "iopub.status.busy": "2022-11-06T18:32:28.975553Z",
     "iopub.status.idle": "2022-11-06T18:32:28.980654Z",
     "shell.execute_reply": "2022-11-06T18:32:28.979775Z",
     "shell.execute_reply.started": "2022-11-06T18:32:28.975932Z"
    },
    "papermill": {
     "duration": 0.005071,
     "end_time": "2022-11-06T18:56:02.812886",
     "exception": false,
     "start_time": "2022-11-06T18:56:02.807815",
     "status": "completed"
    },
    "tags": []
   },
   "source": [
    "## Random Forest"
   ]
  },
  {
   "cell_type": "code",
   "execution_count": 7,
   "id": "582d8922",
   "metadata": {
    "execution": {
     "iopub.execute_input": "2022-11-06T18:56:02.826364Z",
     "iopub.status.busy": "2022-11-06T18:56:02.825053Z",
     "iopub.status.idle": "2022-11-06T18:56:04.496586Z",
     "shell.execute_reply": "2022-11-06T18:56:04.495461Z"
    },
    "papermill": {
     "duration": 1.681264,
     "end_time": "2022-11-06T18:56:04.499550",
     "exception": false,
     "start_time": "2022-11-06T18:56:02.818286",
     "status": "completed"
    },
    "tags": []
   },
   "outputs": [],
   "source": [
    "from sklearn.ensemble import RandomForestClassifier\n",
    "\n",
    "# define label vector\n",
    "y = train_data[\"Survived\"]\n",
    "\n",
    "# define evaluation matrices\n",
    "features = [\"Pclass\", \"Sex\", \"SibSp\", \"Parch\"]\n",
    "# training matrix\n",
    "X = pd.get_dummies(train_data[features])\n",
    "# test matrix\n",
    "X_test = pd.get_dummies(test_data[features])\n",
    "\n",
    "# fit model\n",
    "model = RandomForestClassifier(n_estimators=100, max_depth=5, random_state=1)\n",
    "model.fit(X, y)\n",
    "\n",
    "# run model on test data\n",
    "rf_predictions = model.predict(X_test)\n",
    "\n",
    "\n",
    "\n",
    "# Generate a Confusion Matrix to show results"
   ]
  },
  {
   "cell_type": "markdown",
   "id": "14c6fd9c",
   "metadata": {
    "papermill": {
     "duration": 0.00519,
     "end_time": "2022-11-06T18:56:04.511242",
     "exception": false,
     "start_time": "2022-11-06T18:56:04.506052",
     "status": "completed"
    },
    "tags": []
   },
   "source": [
    "#### To Do:\n",
    "\n",
    "* Make confusion Matrix\n",
    "* try other models"
   ]
  },
  {
   "cell_type": "markdown",
   "id": "159dab26",
   "metadata": {
    "papermill": {
     "duration": 0.00511,
     "end_time": "2022-11-06T18:56:04.521983",
     "exception": false,
     "start_time": "2022-11-06T18:56:04.516873",
     "status": "completed"
    },
    "tags": []
   },
   "source": [
    "# Evaluation"
   ]
  },
  {
   "cell_type": "markdown",
   "id": "cdba4dab",
   "metadata": {
    "papermill": {
     "duration": 0.004979,
     "end_time": "2022-11-06T18:56:04.532270",
     "exception": false,
     "start_time": "2022-11-06T18:56:04.527291",
     "status": "completed"
    },
    "tags": []
   },
   "source": [
    "#### To Do:\n",
    "\n",
    "* evaluate best model"
   ]
  },
  {
   "cell_type": "markdown",
   "id": "257cc10d",
   "metadata": {
    "papermill": {
     "duration": 0.005009,
     "end_time": "2022-11-06T18:56:04.542624",
     "exception": false,
     "start_time": "2022-11-06T18:56:04.537615",
     "status": "completed"
    },
    "tags": []
   },
   "source": [
    "# Hyperparameter tuning"
   ]
  },
  {
   "cell_type": "markdown",
   "id": "33f08bfd",
   "metadata": {
    "papermill": {
     "duration": 0.005023,
     "end_time": "2022-11-06T18:56:04.553086",
     "exception": false,
     "start_time": "2022-11-06T18:56:04.548063",
     "status": "completed"
    },
    "tags": []
   },
   "source": [
    "#### To Do:\n",
    "* do hyperparameter tuning\n",
    "* show results"
   ]
  },
  {
   "cell_type": "markdown",
   "id": "433f9194",
   "metadata": {
    "papermill": {
     "duration": 0.005208,
     "end_time": "2022-11-06T18:56:04.563952",
     "exception": false,
     "start_time": "2022-11-06T18:56:04.558744",
     "status": "completed"
    },
    "tags": []
   },
   "source": [
    "# Submission"
   ]
  },
  {
   "cell_type": "code",
   "execution_count": 8,
   "id": "7a5f74ab",
   "metadata": {
    "execution": {
     "iopub.execute_input": "2022-11-06T18:56:04.577280Z",
     "iopub.status.busy": "2022-11-06T18:56:04.576530Z",
     "iopub.status.idle": "2022-11-06T18:56:04.588023Z",
     "shell.execute_reply": "2022-11-06T18:56:04.586295Z"
    },
    "papermill": {
     "duration": 0.02201,
     "end_time": "2022-11-06T18:56:04.591696",
     "exception": false,
     "start_time": "2022-11-06T18:56:04.569686",
     "status": "completed"
    },
    "tags": []
   },
   "outputs": [
    {
     "name": "stdout",
     "output_type": "stream",
     "text": [
      "Your file was created\n"
     ]
    }
   ],
   "source": [
    "# Generate Output to be evaluated by kaggle\n",
    "output = pd.DataFrame({'PassengerId': test_data.PassengerId, 'Survived': rf_predictions})\n",
    "output.to_csv('submission.csv', index=False)\n",
    "print(\"Your file was created\")"
   ]
  }
 ],
 "metadata": {
  "kernelspec": {
   "display_name": "Python 3",
   "language": "python",
   "name": "python3"
  },
  "language_info": {
   "codemirror_mode": {
    "name": "ipython",
    "version": 3
   },
   "file_extension": ".py",
   "mimetype": "text/x-python",
   "name": "python",
   "nbconvert_exporter": "python",
   "pygments_lexer": "ipython3",
   "version": "3.7.12"
  },
  "papermill": {
   "default_parameters": {},
   "duration": 11.954615,
   "end_time": "2022-11-06T18:56:05.320976",
   "environment_variables": {},
   "exception": null,
   "input_path": "__notebook__.ipynb",
   "output_path": "__notebook__.ipynb",
   "parameters": {},
   "start_time": "2022-11-06T18:55:53.366361",
   "version": "2.3.4"
  }
 },
 "nbformat": 4,
 "nbformat_minor": 5
}
